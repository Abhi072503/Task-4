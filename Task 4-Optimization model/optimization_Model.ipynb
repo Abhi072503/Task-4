{
 "cells": [
  {
   "cell_type": "markdown",
   "id": "39dcf2d0",
   "metadata": {},
   "source": [
    "# Task 4: Optimization Model - Maximizing Profit for Furniture Production\n",
    "\n",
    "This notebook solves a Linear Programming problem using Python and PuLP to determine the optimal number of *chairs* and *tables* a furniture manufacturer should produce to maximize profit under labor and material constraints."
   ]
  },
  {
   "cell_type": "code",
   "execution_count": 2,
   "id": "c73815aa",
   "metadata": {},
   "outputs": [],
   "source": [
    "# Import PuLP library\n",
    "from pulp import LpMaximize, LpProblem, LpVariable,value"
   ]
  },
  {
   "cell_type": "markdown",
   "id": "3b33af6b",
   "metadata": {},
   "source": [
    "## Problem Statement\n",
    "\n",
    "A manufacturer makes two products:\n",
    "- *Chairs* with a profit of ₹50  \n",
    "- *Tables* with a profit of ₹120  \n",
    "\n",
    "Each product requires:\n",
    "- *Chairs:* 5 units of wood, 10 hours of labor  \n",
    "- *Tables:* 20 units of wood, 15 hours of labor\n",
    "\n",
    "Available:\n",
    "- *Total Wood:* 400 units  \n",
    "- *Total Labor Hours:* 450  \n",
    "\n",
    "*Goal:* Maximize profit"
   ]
  },
  {
   "cell_type": "code",
   "execution_count": 4,
   "id": "e281a4bb",
   "metadata": {},
   "outputs": [
    {
     "name": "stdout",
     "output_type": "stream",
     "text": [
      "Running optimization model...\n"
     ]
    },
    {
     "data": {
      "text/plain": [
       "1"
      ]
     },
     "execution_count": 4,
     "metadata": {},
     "output_type": "execute_result"
    }
   ],
   "source": [
    "# Step 1: Create the LP maximization problem\n",
    "model = LpProblem(name=\"furniture-profit-maximization\", sense=LpMaximize)\n",
    "\n",
    "# Step 2: Define decision variables\n",
    "chairs = LpVariable(name=\"chairs\", lowBound=0, cat='Integer')\n",
    "tables = LpVariable(name=\"tables\", lowBound=0, cat='Integer')\n",
    "\n",
    "# Step 3: Add constraints\n",
    "model += (5 * chairs + 20 * tables <= 400, \"Wood Constraint\")\n",
    "model += (10 * chairs + 15 * tables <= 450, \"Labor Constraint\")\n",
    "\n",
    "# Step 4: Add objective function\n",
    "model += (50 * chairs + 120 * tables, \"Total Profit\")\n",
    "\n",
    "# Step 5: Solve the model\n",
    "print(\"Running optimization model...\")\n",
    "model.solve()"
   ]
  },
  {
   "cell_type": "code",
   "execution_count": 5,
   "id": "f7fe1bf9",
   "metadata": {},
   "outputs": [
    {
     "name": "stdout",
     "output_type": "stream",
     "text": [
      "Status: Optimal\n",
      "Chairs to produce: 24.0\n",
      "Tables to produce: 14.0\n",
      "Maximum Profit: ₹ 2880.0\n"
     ]
    }
   ],
   "source": [
    "from pulp import LpStatus, value  # Make sure this is imported\n",
    "\n",
    "# Step 6: Print results\n",
    "print(f\"Status: {LpStatus[model.status]}\")  # ✅ Converts status code to string\n",
    "print(f\"Chairs to produce: {chairs.value()}\")\n",
    "print(f\"Tables to produce: {tables.value()}\")\n",
    "print(f\"Maximum Profit: ₹ {value(model.objective)}\")\n"
   ]
  },
  {
   "cell_type": "markdown",
   "id": "76410e26",
   "metadata": {},
   "source": [
    "## ✅ Conclusion\n",
    "\n",
    "- The model finds the *optimal number of chairs and tables* to produce within the given constraints.\n",
    "- This solution maximizes profit while staying within the limits of available *wood* and *labor*."
   ]
  },
  {
   "cell_type": "markdown",
   "id": "67e87d8a",
   "metadata": {},
   "source": []
  }
 ],
 "metadata": {
  "kernelspec": {
   "display_name": "Python 3",
   "language": "python",
   "name": "python3"
  },
  "language_info": {
   "codemirror_mode": {
    "name": "ipython",
    "version": 3
   },
   "file_extension": ".py",
   "mimetype": "text/x-python",
   "name": "python",
   "nbconvert_exporter": "python",
   "pygments_lexer": "ipython3",
   "version": "3.8.2"
  }
 },
 "nbformat": 4,
 "nbformat_minor": 5
}
